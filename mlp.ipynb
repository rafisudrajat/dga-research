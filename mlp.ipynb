{
 "cells": [
  {
   "cell_type": "code",
   "execution_count": 1,
   "id": "ce425050",
   "metadata": {},
   "outputs": [],
   "source": [
    "import torch\n",
    "import torch.nn as nn\n",
    "from collections import OrderedDict\n",
    "import pandas as pd\n",
    "import torch.optim as optim\n",
    "from train_gp import *\n",
    "import tqdm\n",
    "import copy\n"
   ]
  },
  {
   "cell_type": "code",
   "execution_count": 2,
   "id": "0c4b61f6",
   "metadata": {},
   "outputs": [],
   "source": [
    "small_dataset_path = 'data\\DGA TC10.xlsx'"
   ]
  },
  {
   "cell_type": "code",
   "execution_count": 3,
   "id": "a0a4fadc",
   "metadata": {},
   "outputs": [
    {
     "name": "stdout",
     "output_type": "stream",
     "text": [
      "343\n"
     ]
    }
   ],
   "source": [
    "# Read the test data\n",
    "small_dataset = pd.read_excel(small_dataset_path, sheet_name='Sheet1')\n",
    "small_dataset = transform_small_dataset(small_dataset)\n",
    "print(len(small_dataset))"
   ]
  },
  {
   "cell_type": "code",
   "execution_count": 4,
   "id": "a0828271",
   "metadata": {},
   "outputs": [],
   "source": [
    "import random\n",
    "\n",
    "def sample_train_and_val_data(dataset:pd.DataFrame, \n",
    "                              sampled_data_per_class:int, \n",
    "                              random_state:int)->Dict[str,Tuple[np.ndarray,np.ndarray]]:\n",
    "    # Set random seed for reproducibility\n",
    "    _rng = random.Random(random_state)\n",
    "\n",
    "    # Define class labels\n",
    "    class_labels = [\"D1\", \"D2\", \"PD\", \"T1\", \"T2\", \"T3\"]\n",
    "\n",
    "    # Get indices for each class label\n",
    "    class_indices = {label: dataset.index[dataset[\"Justifikasi\"] == label].tolist()\n",
    "                    for label in class_labels}\n",
    "\n",
    "    # Randomly sample 30 indices for each class\n",
    "    selected_indices = {label: _rng.sample(indices, sampled_data_per_class)\n",
    "                        for label, indices in class_indices.items()}\n",
    "\n",
    "    # Combine all selected indices into a single list\n",
    "    all_selected_indices = [idx for indices in selected_indices.values() for idx in indices]\n",
    "\n",
    "    # Get all indices in the dataset\n",
    "    all_indices = set(dataset.index)\n",
    "\n",
    "    # Find indices that were not selected\n",
    "    all_unselected_indices = list(all_indices.difference(all_selected_indices))\n",
    "\n",
    "    # Extract features and labels\n",
    "    train_dataset = dataset.loc[all_selected_indices]\n",
    "    val_dataset = dataset.loc[all_unselected_indices]\n",
    "\n",
    "    X_train = train_dataset.drop(columns=\"Justifikasi\").to_numpy()\n",
    "    y_train = train_dataset[\"Justifikasi\"].map(encode_justifikasi).to_numpy()\n",
    "\n",
    "    X_val = val_dataset.drop(columns=\"Justifikasi\").to_numpy()\n",
    "    y_val = val_dataset[\"Justifikasi\"].map(encode_justifikasi).to_numpy()\n",
    "\n",
    "    return {\"train_data\":(X_train,y_train),\"val_data\":(X_val,y_val)}\n"
   ]
  },
  {
   "cell_type": "code",
   "execution_count": 5,
   "id": "abaa8e98",
   "metadata": {},
   "outputs": [],
   "source": [
    "class MLPClassifier(nn.Module):\n",
    "    def __init__(self):\n",
    "        super().__init__()\n",
    "        self.dropout = nn.Dropout(p=0.5)\n",
    "        self.encoder = nn.Sequential(OrderedDict([\n",
    "            ('dense1', nn.Linear(5, 64)),\n",
    "            ('act1', nn.ReLU()),\n",
    "            ('dense2', nn.Linear(64, 128)),\n",
    "            ('act2', nn.ReLU()),\n",
    "            ('output', nn.Linear(128, 256)),\n",
    "            # ('output', nn.Linear(128, 6)),\n",
    "        ]))\n",
    "        self.classifier = nn.Sequential(OrderedDict([\n",
    "            ('dense1', nn.Linear(256, 100)),\n",
    "            ('act1', nn.ReLU()),\n",
    "            ('dense2', nn.Linear(100, 50)),\n",
    "            ('act2', nn.ReLU()),\n",
    "            ('output', nn.Linear(50, 6)),\n",
    "            ('outact', nn.Sigmoid()),\n",
    "        ]))\n",
    "\n",
    "    def forward(self, x):\n",
    "        # x = torch.sigmoid(self.encoder(x))\n",
    "        x = self.encoder(x)\n",
    "        x = self.dropout(x)\n",
    "        x = self.classifier(x)\n",
    "        return x"
   ]
  },
  {
   "cell_type": "code",
   "execution_count": 6,
   "id": "79260315",
   "metadata": {},
   "outputs": [
    {
     "name": "stdout",
     "output_type": "stream",
     "text": [
      "Using cuda:0 device\n"
     ]
    }
   ],
   "source": [
    "device = torch.device(\"cuda:0\" if torch.cuda.is_available() else \"cpu\")\n",
    "print(f\"Using {device} device\")\n"
   ]
  },
  {
   "cell_type": "code",
   "execution_count": 7,
   "id": "fd94a846",
   "metadata": {},
   "outputs": [],
   "source": [
    "def calculate_accuracy(y_pred_prob, y):\n",
    "    top_pred = y_pred_prob.argmax(1, keepdim=True)\n",
    "    correct = top_pred.eq(y.view_as(top_pred)).sum()\n",
    "    print(\"Number of correct predictions\", correct)\n",
    "    acc = correct.float() / y.shape[0]\n",
    "    return acc"
   ]
  },
  {
   "cell_type": "markdown",
   "id": "af9f545d",
   "metadata": {},
   "source": [
    "# Sampled data for all classes = 30"
   ]
  },
  {
   "cell_type": "code",
   "execution_count": 8,
   "id": "b31c9125",
   "metadata": {},
   "outputs": [],
   "source": [
    "X = small_dataset.drop(columns=\"Justifikasi\").to_numpy()\n",
    "y = small_dataset[\"Justifikasi\"].map(encode_justifikasi).to_numpy()\n",
    "\n",
    "sampled_data = sample_train_and_val_data(small_dataset,30,169)\n",
    "X_train, y_train = sampled_data[\"train_data\"]\n",
    "X_val, y_val = sampled_data[\"val_data\"]"
   ]
  },
  {
   "cell_type": "code",
   "execution_count": 9,
   "id": "d2ac222f",
   "metadata": {},
   "outputs": [
    {
     "name": "stdout",
     "output_type": "stream",
     "text": [
      "X_tensor dtype:  torch.float32\n",
      "X_tensor shape:  torch.Size([343, 5])\n",
      "y_tensor dtype:  torch.int64\n",
      "y_tensor shape:  torch.Size([343])\n",
      "X_train_tensor dtype:  torch.float32\n",
      "X_train_tensor shape:  torch.Size([180, 5])\n",
      "y_train_tensor dtype:  torch.int64\n",
      "y_train_tensor shape:  torch.Size([180])\n",
      "X_val_tensor shape:  torch.Size([163, 5])\n",
      "X_val_tensor dtype:  torch.float32\n",
      "y_val_tensor dtype:  torch.int64\n",
      "y_val_tensor shape:  torch.Size([163])\n"
     ]
    }
   ],
   "source": [
    "X_tensor = torch.from_numpy(X).to(device, dtype=torch.float32)\n",
    "print(\"X_tensor dtype: \",X_tensor.dtype)\n",
    "print(\"X_tensor shape: \",X_tensor.shape)\n",
    "\n",
    "y_tensor = torch.from_numpy(y).to(device)\n",
    "print(\"y_tensor dtype: \",y_tensor.dtype)\n",
    "print(\"y_tensor shape: \",y_tensor.shape)\n",
    "\n",
    "X_train_tensor = torch.from_numpy(X_train).to(device, dtype=torch.float32)\n",
    "print(\"X_train_tensor dtype: \",X_train_tensor.dtype)\n",
    "print(\"X_train_tensor shape: \",X_train_tensor.shape)\n",
    "\n",
    "y_train_tensor = torch.from_numpy(y_train).to(device)\n",
    "print(\"y_train_tensor dtype: \",y_train_tensor.dtype)\n",
    "print(\"y_train_tensor shape: \",y_train_tensor.shape)\n",
    "\n",
    "X_val_tensor = torch.from_numpy(X_val).to(device, dtype=torch.float32)\n",
    "print(\"X_val_tensor shape: \",X_val_tensor.shape)\n",
    "print(\"X_val_tensor dtype: \",X_val_tensor.dtype)\n",
    "\n",
    "y_val_tensor = torch.from_numpy(y_val).to(device)\n",
    "print(\"y_val_tensor dtype: \",y_val_tensor.dtype)\n",
    "print(\"y_val_tensor shape: \",y_val_tensor.shape)"
   ]
  },
  {
   "cell_type": "code",
   "execution_count": 10,
   "id": "d48555ea",
   "metadata": {},
   "outputs": [],
   "source": [
    "model = MLPClassifier()\n",
    "model.to(device)\n",
    "\n",
    "# loss function and optimizer\n",
    "loss_fn = nn.CrossEntropyLoss()\n",
    "optimizer = optim.Adam(model.parameters(), lr=0.001)\n",
    "\n",
    "# training parameters\n",
    "n_epochs = 100   # number of epochs to run\n",
    "batch_size = 10  # size of each batch\n",
    "batch_start = torch.arange(0, len(X_train), batch_size)\n",
    "\n",
    "# Hold the best model\n",
    "best_cross_entropy = np.inf   # init to infinity\n",
    "best_weights = None\n",
    "eval_history = []\n",
    "train_history = []"
   ]
  },
  {
   "cell_type": "code",
   "execution_count": 11,
   "id": "180d75ab",
   "metadata": {},
   "outputs": [
    {
     "name": "stderr",
     "output_type": "stream",
     "text": [
      "Epoch 0: 100%|██████████| 18/18 [00:00<00:00, 26.71batch/s, loss=2.04] \n",
      "Epoch 1: 100%|██████████| 18/18 [00:00<00:00, 144.93batch/s, loss=2.03]\n",
      "Epoch 2: 100%|██████████| 18/18 [00:00<00:00, 156.33batch/s, loss=1.77]\n",
      "Epoch 3: 100%|██████████| 18/18 [00:00<00:00, 164.08batch/s, loss=1.62]\n",
      "Epoch 4: 100%|██████████| 18/18 [00:00<00:00, 143.21batch/s, loss=1.1] \n",
      "Epoch 5: 100%|██████████| 18/18 [00:00<00:00, 169.58batch/s, loss=1.22]\n",
      "Epoch 6: 100%|██████████| 18/18 [00:00<00:00, 168.79batch/s, loss=1.24]\n",
      "Epoch 7: 100%|██████████| 18/18 [00:00<00:00, 148.94batch/s, loss=1.24]\n",
      "Epoch 8: 100%|██████████| 18/18 [00:00<00:00, 170.54batch/s, loss=1.41]\n",
      "Epoch 9: 100%|██████████| 18/18 [00:00<00:00, 157.11batch/s, loss=1.24]\n",
      "Epoch 10: 100%|██████████| 18/18 [00:00<00:00, 159.87batch/s, loss=1.33]\n",
      "Epoch 11: 100%|██████████| 18/18 [00:00<00:00, 170.94batch/s, loss=1.32]\n",
      "Epoch 12: 100%|██████████| 18/18 [00:00<00:00, 153.86batch/s, loss=1.23]\n",
      "Epoch 13: 100%|██████████| 18/18 [00:00<00:00, 135.38batch/s, loss=1.24]\n",
      "Epoch 14: 100%|██████████| 18/18 [00:00<00:00, 152.49batch/s, loss=1.24]\n",
      "Epoch 15: 100%|██████████| 18/18 [00:00<00:00, 157.10batch/s, loss=1.24]\n",
      "Epoch 16: 100%|██████████| 18/18 [00:00<00:00, 142.13batch/s, loss=1.24]\n",
      "Epoch 17: 100%|██████████| 18/18 [00:00<00:00, 156.95batch/s, loss=1.24]\n",
      "Epoch 18: 100%|██████████| 18/18 [00:00<00:00, 160.80batch/s, loss=1.24]\n",
      "Epoch 19: 100%|██████████| 18/18 [00:00<00:00, 161.10batch/s, loss=1.24]\n",
      "Epoch 20: 100%|██████████| 18/18 [00:00<00:00, 143.65batch/s, loss=1.24]\n",
      "Epoch 21: 100%|██████████| 18/18 [00:00<00:00, 170.72batch/s, loss=1.24]\n",
      "Epoch 22: 100%|██████████| 18/18 [00:00<00:00, 162.77batch/s, loss=1.24]\n",
      "Epoch 23: 100%|██████████| 18/18 [00:00<00:00, 162.50batch/s, loss=1.24]\n",
      "Epoch 24: 100%|██████████| 18/18 [00:00<00:00, 171.69batch/s, loss=1.24]\n",
      "Epoch 25: 100%|██████████| 18/18 [00:00<00:00, 169.63batch/s, loss=1.24]\n",
      "Epoch 26: 100%|██████████| 18/18 [00:00<00:00, 153.56batch/s, loss=1.24]\n",
      "Epoch 27: 100%|██████████| 18/18 [00:00<00:00, 166.98batch/s, loss=1.33]\n",
      "Epoch 28: 100%|██████████| 18/18 [00:00<00:00, 154.67batch/s, loss=1.24]\n",
      "Epoch 29: 100%|██████████| 18/18 [00:00<00:00, 110.95batch/s, loss=1.24]\n",
      "Epoch 30: 100%|██████████| 18/18 [00:00<00:00, 154.15batch/s, loss=1.24]\n",
      "Epoch 31: 100%|██████████| 18/18 [00:00<00:00, 147.35batch/s, loss=1.78]\n",
      "Epoch 32: 100%|██████████| 18/18 [00:00<00:00, 136.17batch/s, loss=1.24]\n",
      "Epoch 33: 100%|██████████| 18/18 [00:00<00:00, 153.38batch/s, loss=1.15]\n",
      "Epoch 34: 100%|██████████| 18/18 [00:00<00:00, 160.65batch/s, loss=1.04]\n",
      "Epoch 35: 100%|██████████| 18/18 [00:00<00:00, 154.82batch/s, loss=1.06]\n",
      "Epoch 36: 100%|██████████| 18/18 [00:00<00:00, 154.48batch/s, loss=1.24]\n",
      "Epoch 37: 100%|██████████| 18/18 [00:00<00:00, 155.15batch/s, loss=1.24]\n",
      "Epoch 38: 100%|██████████| 18/18 [00:00<00:00, 160.80batch/s, loss=1.24]\n",
      "Epoch 39: 100%|██████████| 18/18 [00:00<00:00, 148.42batch/s, loss=1.24]\n",
      "Epoch 40: 100%|██████████| 18/18 [00:00<00:00, 165.40batch/s, loss=1.24]\n",
      "Epoch 41: 100%|██████████| 18/18 [00:00<00:00, 166.71batch/s, loss=1.24]\n",
      "Epoch 42: 100%|██████████| 18/18 [00:00<00:00, 171.01batch/s, loss=1.24]\n",
      "Epoch 43: 100%|██████████| 18/18 [00:00<00:00, 162.55batch/s, loss=1.24]\n",
      "Epoch 44: 100%|██████████| 18/18 [00:00<00:00, 160.38batch/s, loss=1.32]\n",
      "Epoch 45: 100%|██████████| 18/18 [00:00<00:00, 156.39batch/s, loss=1.24]\n",
      "Epoch 46: 100%|██████████| 18/18 [00:00<00:00, 147.74batch/s, loss=1.14]\n",
      "Epoch 47: 100%|██████████| 18/18 [00:00<00:00, 172.53batch/s, loss=1.04]\n",
      "Epoch 48: 100%|██████████| 18/18 [00:00<00:00, 145.74batch/s, loss=1.07]\n",
      "Epoch 49: 100%|██████████| 18/18 [00:00<00:00, 144.34batch/s, loss=1.06]\n",
      "Epoch 50: 100%|██████████| 18/18 [00:00<00:00, 160.54batch/s, loss=1.12]\n",
      "Epoch 51: 100%|██████████| 18/18 [00:00<00:00, 187.08batch/s, loss=1.45]\n",
      "Epoch 52: 100%|██████████| 18/18 [00:00<00:00, 140.18batch/s, loss=1.15]\n",
      "Epoch 53: 100%|██████████| 18/18 [00:00<00:00, 150.73batch/s, loss=1.04]\n",
      "Epoch 54: 100%|██████████| 18/18 [00:00<00:00, 151.48batch/s, loss=1.04]\n",
      "Epoch 55: 100%|██████████| 18/18 [00:00<00:00, 161.86batch/s, loss=1.04]\n",
      "Epoch 56: 100%|██████████| 18/18 [00:00<00:00, 159.12batch/s, loss=1.04]\n",
      "Epoch 57: 100%|██████████| 18/18 [00:00<00:00, 160.67batch/s, loss=1.04]\n",
      "Epoch 58: 100%|██████████| 18/18 [00:00<00:00, 144.05batch/s, loss=1.06]\n",
      "Epoch 59: 100%|██████████| 18/18 [00:00<00:00, 163.03batch/s, loss=1.34]\n",
      "Epoch 60: 100%|██████████| 18/18 [00:00<00:00, 151.88batch/s, loss=1.2] \n",
      "Epoch 61: 100%|██████████| 18/18 [00:00<00:00, 157.11batch/s, loss=1.08]\n",
      "Epoch 62: 100%|██████████| 18/18 [00:00<00:00, 152.55batch/s, loss=1.06]\n",
      "Epoch 63: 100%|██████████| 18/18 [00:00<00:00, 174.03batch/s, loss=1.08]\n",
      "Epoch 64: 100%|██████████| 18/18 [00:00<00:00, 159.39batch/s, loss=1.06]\n",
      "Epoch 65: 100%|██████████| 18/18 [00:00<00:00, 151.60batch/s, loss=1.06]\n",
      "Epoch 66: 100%|██████████| 18/18 [00:00<00:00, 150.93batch/s, loss=1.06]\n",
      "Epoch 67: 100%|██████████| 18/18 [00:00<00:00, 158.23batch/s, loss=1.04]\n",
      "Epoch 68: 100%|██████████| 18/18 [00:00<00:00, 150.97batch/s, loss=1.04]\n",
      "Epoch 69: 100%|██████████| 18/18 [00:00<00:00, 169.32batch/s, loss=1.04]\n",
      "Epoch 70: 100%|██████████| 18/18 [00:00<00:00, 143.56batch/s, loss=1.04]\n",
      "Epoch 71: 100%|██████████| 18/18 [00:00<00:00, 165.38batch/s, loss=1.06]\n",
      "Epoch 72: 100%|██████████| 18/18 [00:00<00:00, 149.28batch/s, loss=1.24]\n",
      "Epoch 73: 100%|██████████| 18/18 [00:00<00:00, 131.68batch/s, loss=1.24]\n",
      "Epoch 74: 100%|██████████| 18/18 [00:00<00:00, 163.75batch/s, loss=1.24]\n",
      "Epoch 75: 100%|██████████| 18/18 [00:00<00:00, 153.96batch/s, loss=1.24]\n",
      "Epoch 76: 100%|██████████| 18/18 [00:00<00:00, 150.48batch/s, loss=1.24]\n",
      "Epoch 77: 100%|██████████| 18/18 [00:00<00:00, 175.46batch/s, loss=1.24]\n",
      "Epoch 78: 100%|██████████| 18/18 [00:00<00:00, 133.11batch/s, loss=1.24]\n",
      "Epoch 79: 100%|██████████| 18/18 [00:00<00:00, 170.49batch/s, loss=1.24]\n",
      "Epoch 80: 100%|██████████| 18/18 [00:00<00:00, 180.78batch/s, loss=1.24]\n",
      "Epoch 81: 100%|██████████| 18/18 [00:00<00:00, 145.00batch/s, loss=1.24]\n",
      "Epoch 82: 100%|██████████| 18/18 [00:00<00:00, 151.33batch/s, loss=1.24]\n",
      "Epoch 83: 100%|██████████| 18/18 [00:00<00:00, 166.35batch/s, loss=1.24]\n",
      "Epoch 84: 100%|██████████| 18/18 [00:00<00:00, 134.26batch/s, loss=1.24]\n",
      "Epoch 85: 100%|██████████| 18/18 [00:00<00:00, 163.70batch/s, loss=1.24]\n",
      "Epoch 86: 100%|██████████| 18/18 [00:00<00:00, 149.66batch/s, loss=1.24]\n",
      "Epoch 87: 100%|██████████| 18/18 [00:00<00:00, 177.22batch/s, loss=1.24]\n",
      "Epoch 88: 100%|██████████| 18/18 [00:00<00:00, 175.28batch/s, loss=1.24]\n",
      "Epoch 89: 100%|██████████| 18/18 [00:00<00:00, 152.41batch/s, loss=1.24]\n",
      "Epoch 90: 100%|██████████| 18/18 [00:00<00:00, 169.42batch/s, loss=1.24]\n",
      "Epoch 91: 100%|██████████| 18/18 [00:00<00:00, 154.41batch/s, loss=1.24]\n",
      "Epoch 92: 100%|██████████| 18/18 [00:00<00:00, 161.59batch/s, loss=1.24]\n",
      "Epoch 93: 100%|██████████| 18/18 [00:00<00:00, 140.26batch/s, loss=1.24]\n",
      "Epoch 94: 100%|██████████| 18/18 [00:00<00:00, 166.96batch/s, loss=1.24]\n",
      "Epoch 95: 100%|██████████| 18/18 [00:00<00:00, 141.65batch/s, loss=1.24]\n",
      "Epoch 96: 100%|██████████| 18/18 [00:00<00:00, 150.23batch/s, loss=1.24]\n",
      "Epoch 97: 100%|██████████| 18/18 [00:00<00:00, 159.71batch/s, loss=1.24]\n",
      "Epoch 98: 100%|██████████| 18/18 [00:00<00:00, 143.22batch/s, loss=1.24]\n",
      "Epoch 99: 100%|██████████| 18/18 [00:00<00:00, 166.36batch/s, loss=1.24]\n"
     ]
    }
   ],
   "source": [
    "# training loop\n",
    "for epoch in range(n_epochs):\n",
    "    model.train()\n",
    "    with tqdm.tqdm(batch_start, unit=\"batch\", mininterval=0, disable=False) as bar:\n",
    "        bar.set_description(f\"Epoch {epoch}\")\n",
    "        for start in bar:\n",
    "            # take a batch\n",
    "            X_batch = X_train_tensor[start:start+batch_size]\n",
    "            y_batch = y_train_tensor[start:start+batch_size]\n",
    "            # forward pass\n",
    "            y_pred_prob = model(X_batch)\n",
    "            \n",
    "            loss = loss_fn(y_pred_prob, y_batch)\n",
    "\n",
    "            train_history.append(float(loss))\n",
    "            # backward pass\n",
    "            optimizer.zero_grad()\n",
    "            loss.backward()\n",
    "            # update weights\n",
    "            optimizer.step()\n",
    "            # print progress\n",
    "            bar.set_postfix(loss=float(loss))\n",
    "    # evaluate accuracy at end of each epoch\n",
    "    model.eval()\n",
    "    y_pred_prob = model(X_val_tensor)\n",
    "    cross_entropy = loss_fn(y_pred_prob, y_val_tensor)\n",
    "    cross_entropy = float(cross_entropy)\n",
    "    eval_history.append(cross_entropy)\n",
    "    # best_weights = copy.deepcopy(model.state_dict())\n",
    "    if cross_entropy < best_cross_entropy:\n",
    "        best_cross_entropy = cross_entropy\n",
    "        best_weights = copy.deepcopy(model.state_dict())"
   ]
  },
  {
   "cell_type": "code",
   "execution_count": 12,
   "id": "c5c42d78",
   "metadata": {},
   "outputs": [
    {
     "data": {
      "image/png": "[encoded data removed]",
      "text/plain": [
       "<Figure size 640x480 with 1 Axes>"
      ]
     },
     "metadata": {},
     "output_type": "display_data"
    }
   ],
   "source": [
    "import matplotlib.pyplot as plt\n",
    "\n",
    "plt.plot(train_history)\n",
    "plt.ylabel(\"train loss\")\n",
    "plt.xlabel(\"epoch\")\n",
    "plt.show()"
   ]
  },
  {
   "cell_type": "code",
   "execution_count": 13,
   "id": "cbf2a0c3",
   "metadata": {},
   "outputs": [
    {
     "data": {
      "image/png": "[encoded data removed]",
      "text/plain": [
       "<Figure size 640x480 with 1 Axes>"
      ]
     },
     "metadata": {},
     "output_type": "display_data"
    }
   ],
   "source": [
    "plt.plot(eval_history)\n",
    "plt.ylabel(\"eval loss\")\n",
    "plt.xlabel(\"epoch\")\n",
    "plt.show()"
   ]
  },
  {
   "cell_type": "code",
   "execution_count": 14,
   "id": "b1c120e7",
   "metadata": {},
   "outputs": [
    {
     "name": "stdout",
     "output_type": "stream",
     "text": [
      "Number of correct predictions tensor(188, device='cuda:0')\n",
      "tensor(0.5481, device='cuda:0')\n"
     ]
    }
   ],
   "source": [
    "model.load_state_dict(best_weights)\n",
    "\n",
    "# Set to evaluation mode if you're going to evaluate or predict\n",
    "model.eval()\n",
    "# Now use model for evaluation or prediction\n",
    "y_pred_prob_all = model(X_tensor)\n",
    "accuracy = calculate_accuracy(y_pred_prob_all,y_tensor)\n",
    "print(accuracy)\n"
   ]
  },
  {
   "cell_type": "markdown",
   "id": "b9558863",
   "metadata": {},
   "source": [
    "# Sampled data for all classes = 20"
   ]
  },
  {
   "cell_type": "code",
   "execution_count": 15,
   "id": "7b2125f8",
   "metadata": {},
   "outputs": [],
   "source": [
    "X = small_dataset.drop(columns=\"Justifikasi\").to_numpy()\n",
    "y = small_dataset[\"Justifikasi\"].map(encode_justifikasi).to_numpy()\n",
    "\n",
    "sampled_data = sample_train_and_val_data(small_dataset,20,50)\n",
    "X_train, y_train = sampled_data[\"train_data\"]\n",
    "X_val, y_val = sampled_data[\"val_data\"]"
   ]
  },
  {
   "cell_type": "code",
   "execution_count": 16,
   "id": "5c68396b",
   "metadata": {},
   "outputs": [
    {
     "name": "stdout",
     "output_type": "stream",
     "text": [
      "X_tensor dtype:  torch.float32\n",
      "X_tensor shape:  torch.Size([343, 5])\n",
      "y_tensor dtype:  torch.int64\n",
      "y_tensor shape:  torch.Size([343])\n",
      "X_train_tensor dtype:  torch.float32\n",
      "X_train_tensor shape:  torch.Size([120, 5])\n",
      "y_train_tensor dtype:  torch.int64\n",
      "y_train_tensor shape:  torch.Size([120])\n",
      "X_val_tensor shape:  torch.Size([223, 5])\n",
      "X_val_tensor dtype:  torch.float32\n",
      "y_val_tensor dtype:  torch.int64\n",
      "y_val_tensor shape:  torch.Size([223])\n"
     ]
    }
   ],
   "source": [
    "X_tensor = torch.from_numpy(X).to(device, dtype=torch.float32)\n",
    "print(\"X_tensor dtype: \",X_tensor.dtype)\n",
    "print(\"X_tensor shape: \",X_tensor.shape)\n",
    "\n",
    "y_tensor = torch.from_numpy(y).to(device)\n",
    "print(\"y_tensor dtype: \",y_tensor.dtype)\n",
    "print(\"y_tensor shape: \",y_tensor.shape)\n",
    "\n",
    "X_train_tensor = torch.from_numpy(X_train).to(device, dtype=torch.float32)\n",
    "print(\"X_train_tensor dtype: \",X_train_tensor.dtype)\n",
    "print(\"X_train_tensor shape: \",X_train_tensor.shape)\n",
    "\n",
    "y_train_tensor = torch.from_numpy(y_train).to(device)\n",
    "print(\"y_train_tensor dtype: \",y_train_tensor.dtype)\n",
    "print(\"y_train_tensor shape: \",y_train_tensor.shape)\n",
    "\n",
    "X_val_tensor = torch.from_numpy(X_val).to(device, dtype=torch.float32)\n",
    "print(\"X_val_tensor shape: \",X_val_tensor.shape)\n",
    "print(\"X_val_tensor dtype: \",X_val_tensor.dtype)\n",
    "\n",
    "y_val_tensor = torch.from_numpy(y_val).to(device)\n",
    "print(\"y_val_tensor dtype: \",y_val_tensor.dtype)\n",
    "print(\"y_val_tensor shape: \",y_val_tensor.shape)"
   ]
  },
  {
   "cell_type": "code",
   "execution_count": 17,
   "id": "aaac9a46",
   "metadata": {},
   "outputs": [],
   "source": [
    "model = MLPClassifier()\n",
    "model.to(device)\n",
    "\n",
    "# loss function and optimizer\n",
    "loss_fn = nn.CrossEntropyLoss()\n",
    "optimizer = optim.Adam(model.parameters(), lr=0.001)\n",
    "\n",
    "# training parameters\n",
    "n_epochs = 100   # number of epochs to run\n",
    "batch_size = 10  # size of each batch\n",
    "batch_start = torch.arange(0, len(X_train), batch_size)\n",
    "\n",
    "# Hold the best model\n",
    "best_cross_entropy = np.inf   # init to infinity\n",
    "best_weights = None\n",
    "eval_history = []\n",
    "train_history = []"
   ]
  },
  {
   "cell_type": "code",
   "execution_count": 18,
   "id": "def31145",
   "metadata": {},
   "outputs": [
    {
     "name": "stderr",
     "output_type": "stream",
     "text": [
      "Epoch 0: 100%|██████████| 12/12 [00:00<00:00, 184.33batch/s, loss=1.9] \n",
      "Epoch 1: 100%|██████████| 12/12 [00:00<00:00, 174.39batch/s, loss=1.84]\n",
      "Epoch 2: 100%|██████████| 12/12 [00:00<00:00, 159.43batch/s, loss=1.82]\n",
      "Epoch 3: 100%|██████████| 12/12 [00:00<00:00, 178.95batch/s, loss=1.76]\n",
      "Epoch 4: 100%|██████████| 12/12 [00:00<00:00, 175.33batch/s, loss=1.33]\n",
      "Epoch 5: 100%|██████████| 12/12 [00:00<00:00, 176.84batch/s, loss=1.55]\n",
      "Epoch 6: 100%|██████████| 12/12 [00:00<00:00, 158.97batch/s, loss=1.24]\n",
      "Epoch 7: 100%|██████████| 12/12 [00:00<00:00, 170.26batch/s, loss=1.19]\n",
      "Epoch 8: 100%|██████████| 12/12 [00:00<00:00, 158.27batch/s, loss=1.17]\n",
      "Epoch 9: 100%|██████████| 12/12 [00:00<00:00, 171.34batch/s, loss=1.26]\n",
      "Epoch 10: 100%|██████████| 12/12 [00:00<00:00, 164.18batch/s, loss=1.15]\n",
      "Epoch 11: 100%|██████████| 12/12 [00:00<00:00, 131.10batch/s, loss=1.22]\n",
      "Epoch 12: 100%|██████████| 12/12 [00:00<00:00, 158.38batch/s, loss=1.22]\n",
      "Epoch 13: 100%|██████████| 12/12 [00:00<00:00, 158.40batch/s, loss=1.3] \n",
      "Epoch 14: 100%|██████████| 12/12 [00:00<00:00, 152.93batch/s, loss=1.2] \n",
      "Epoch 15: 100%|██████████| 12/12 [00:00<00:00, 182.49batch/s, loss=1.3] \n",
      "Epoch 16: 100%|██████████| 12/12 [00:00<00:00, 175.67batch/s, loss=1.4] \n",
      "Epoch 17: 100%|██████████| 12/12 [00:00<00:00, 173.17batch/s, loss=1.3] \n",
      "Epoch 18: 100%|██████████| 12/12 [00:00<00:00, 149.73batch/s, loss=1.32]\n",
      "Epoch 19: 100%|██████████| 12/12 [00:00<00:00, 164.10batch/s, loss=1.26]\n",
      "Epoch 20: 100%|██████████| 12/12 [00:00<00:00, 174.19batch/s, loss=1.26]\n",
      "Epoch 21: 100%|██████████| 12/12 [00:00<00:00, 166.92batch/s, loss=1.55]\n",
      "Epoch 22: 100%|██████████| 12/12 [00:00<00:00, 168.40batch/s, loss=1.1] \n",
      "Epoch 23: 100%|██████████| 12/12 [00:00<00:00, 154.12batch/s, loss=1.11]\n",
      "Epoch 24: 100%|██████████| 12/12 [00:00<00:00, 183.22batch/s, loss=1.39]\n",
      "Epoch 25: 100%|██████████| 12/12 [00:00<00:00, 177.03batch/s, loss=1.62]\n",
      "Epoch 26: 100%|██████████| 12/12 [00:00<00:00, 186.75batch/s, loss=1.41]\n",
      "Epoch 27: 100%|██████████| 12/12 [00:00<00:00, 151.59batch/s, loss=1.39]\n",
      "Epoch 28: 100%|██████████| 12/12 [00:00<00:00, 187.60batch/s, loss=1.37]\n",
      "Epoch 29: 100%|██████████| 12/12 [00:00<00:00, 179.67batch/s, loss=1.36]\n",
      "Epoch 30: 100%|██████████| 12/12 [00:00<00:00, 175.91batch/s, loss=1.39]\n",
      "Epoch 31: 100%|██████████| 12/12 [00:00<00:00, 156.65batch/s, loss=1.34]\n",
      "Epoch 32: 100%|██████████| 12/12 [00:00<00:00, 175.54batch/s, loss=1.27]\n",
      "Epoch 33: 100%|██████████| 12/12 [00:00<00:00, 176.37batch/s, loss=1.24]\n",
      "Epoch 34: 100%|██████████| 12/12 [00:00<00:00, 160.38batch/s, loss=1.24]\n",
      "Epoch 35: 100%|██████████| 12/12 [00:00<00:00, 169.87batch/s, loss=1.24]\n",
      "Epoch 36: 100%|██████████| 12/12 [00:00<00:00, 185.24batch/s, loss=1.19]\n",
      "Epoch 37: 100%|██████████| 12/12 [00:00<00:00, 168.04batch/s, loss=1.22]\n",
      "Epoch 38: 100%|██████████| 12/12 [00:00<00:00, 155.12batch/s, loss=1.24]\n",
      "Epoch 39: 100%|██████████| 12/12 [00:00<00:00, 181.71batch/s, loss=1.24]\n",
      "Epoch 40: 100%|██████████| 12/12 [00:00<00:00, 182.56batch/s, loss=1.1] \n",
      "Epoch 41: 100%|██████████| 12/12 [00:00<00:00, 168.51batch/s, loss=1.08]\n",
      "Epoch 42: 100%|██████████| 12/12 [00:00<00:00, 137.75batch/s, loss=1.06]\n",
      "Epoch 43: 100%|██████████| 12/12 [00:00<00:00, 159.64batch/s, loss=1.08]\n",
      "Epoch 44: 100%|██████████| 12/12 [00:00<00:00, 172.66batch/s, loss=1.34]\n",
      "Epoch 45: 100%|██████████| 12/12 [00:00<00:00, 152.16batch/s, loss=1.32]\n",
      "Epoch 46: 100%|██████████| 12/12 [00:00<00:00, 173.78batch/s, loss=1.15]\n",
      "Epoch 47: 100%|██████████| 12/12 [00:00<00:00, 183.88batch/s, loss=1.22]\n",
      "Epoch 48: 100%|██████████| 12/12 [00:00<00:00, 156.81batch/s, loss=1.17]\n",
      "Epoch 49: 100%|██████████| 12/12 [00:00<00:00, 151.80batch/s, loss=1.19]\n",
      "Epoch 50: 100%|██████████| 12/12 [00:00<00:00, 177.20batch/s, loss=1.3] \n",
      "Epoch 51: 100%|██████████| 12/12 [00:00<00:00, 168.26batch/s, loss=1.25]\n",
      "Epoch 52: 100%|██████████| 12/12 [00:00<00:00, 180.44batch/s, loss=1.18]\n",
      "Epoch 53: 100%|██████████| 12/12 [00:00<00:00, 186.07batch/s, loss=1.27]\n",
      "Epoch 54: 100%|██████████| 12/12 [00:00<00:00, 147.85batch/s, loss=1.25]\n",
      "Epoch 55: 100%|██████████| 12/12 [00:00<00:00, 172.16batch/s, loss=1.25]\n",
      "Epoch 56: 100%|██████████| 12/12 [00:00<00:00, 170.81batch/s, loss=1.17]\n",
      "Epoch 57: 100%|██████████| 12/12 [00:00<00:00, 156.50batch/s, loss=1.17]\n",
      "Epoch 58: 100%|██████████| 12/12 [00:00<00:00, 159.29batch/s, loss=1.27]\n",
      "Epoch 59: 100%|██████████| 12/12 [00:00<00:00, 164.14batch/s, loss=1.16]\n",
      "Epoch 60: 100%|██████████| 12/12 [00:00<00:00, 164.16batch/s, loss=1.16]\n",
      "Epoch 61: 100%|██████████| 12/12 [00:00<00:00, 149.82batch/s, loss=1.31]\n",
      "Epoch 62: 100%|██████████| 12/12 [00:00<00:00, 164.54batch/s, loss=1.16]\n",
      "Epoch 63: 100%|██████████| 12/12 [00:00<00:00, 177.58batch/s, loss=1.16]\n",
      "Epoch 64: 100%|██████████| 12/12 [00:00<00:00, 169.75batch/s, loss=1.24]\n",
      "Epoch 65: 100%|██████████| 12/12 [00:00<00:00, 156.04batch/s, loss=1.24]\n",
      "Epoch 66: 100%|██████████| 12/12 [00:00<00:00, 177.62batch/s, loss=1.24]\n",
      "Epoch 67: 100%|██████████| 12/12 [00:00<00:00, 176.99batch/s, loss=1.17]\n",
      "Epoch 68: 100%|██████████| 12/12 [00:00<00:00, 146.26batch/s, loss=1.12]\n",
      "Epoch 69: 100%|██████████| 12/12 [00:00<00:00, 176.12batch/s, loss=1.06]\n",
      "Epoch 70: 100%|██████████| 12/12 [00:00<00:00, 168.16batch/s, loss=1.08]\n",
      "Epoch 71: 100%|██████████| 12/12 [00:00<00:00, 184.59batch/s, loss=1.16]\n",
      "Epoch 72: 100%|██████████| 12/12 [00:00<00:00, 163.84batch/s, loss=1.16]\n",
      "Epoch 73: 100%|██████████| 12/12 [00:00<00:00, 156.41batch/s, loss=1.16]\n",
      "Epoch 74: 100%|██████████| 12/12 [00:00<00:00, 175.77batch/s, loss=1.16]\n",
      "Epoch 75: 100%|██████████| 12/12 [00:00<00:00, 188.85batch/s, loss=1.14]\n",
      "Epoch 76: 100%|██████████| 12/12 [00:00<00:00, 135.75batch/s, loss=1.06]\n",
      "Epoch 77: 100%|██████████| 12/12 [00:00<00:00, 165.88batch/s, loss=1.14]\n",
      "Epoch 78: 100%|██████████| 12/12 [00:00<00:00, 164.25batch/s, loss=1.14]\n",
      "Epoch 79: 100%|██████████| 12/12 [00:00<00:00, 150.43batch/s, loss=1.16]\n",
      "Epoch 80: 100%|██████████| 12/12 [00:00<00:00, 177.73batch/s, loss=1.24]\n",
      "Epoch 81: 100%|██████████| 12/12 [00:00<00:00, 182.32batch/s, loss=1.24]\n",
      "Epoch 82: 100%|██████████| 12/12 [00:00<00:00, 191.44batch/s, loss=1.24]\n",
      "Epoch 83: 100%|██████████| 12/12 [00:00<00:00, 162.61batch/s, loss=1.23]\n",
      "Epoch 84: 100%|██████████| 12/12 [00:00<00:00, 172.67batch/s, loss=1.04]\n",
      "Epoch 85: 100%|██████████| 12/12 [00:00<00:00, 188.59batch/s, loss=1.04]\n",
      "Epoch 86: 100%|██████████| 12/12 [00:00<00:00, 157.87batch/s, loss=1.08]\n",
      "Epoch 87: 100%|██████████| 12/12 [00:00<00:00, 178.73batch/s, loss=1.08]\n",
      "Epoch 88: 100%|██████████| 12/12 [00:00<00:00, 195.11batch/s, loss=1.12]\n",
      "Epoch 89: 100%|██████████| 12/12 [00:00<00:00, 185.10batch/s, loss=1.08]\n",
      "Epoch 90: 100%|██████████| 12/12 [00:00<00:00, 161.79batch/s, loss=1.17]\n",
      "Epoch 91: 100%|██████████| 12/12 [00:00<00:00, 179.03batch/s, loss=1.06]\n",
      "Epoch 92: 100%|██████████| 12/12 [00:00<00:00, 169.30batch/s, loss=1.07]\n",
      "Epoch 93: 100%|██████████| 12/12 [00:00<00:00, 152.26batch/s, loss=1.09]\n",
      "Epoch 94: 100%|██████████| 12/12 [00:00<00:00, 170.98batch/s, loss=1.07]\n",
      "Epoch 95: 100%|██████████| 12/12 [00:00<00:00, 161.09batch/s, loss=1.06]\n",
      "Epoch 96: 100%|██████████| 12/12 [00:00<00:00, 153.06batch/s, loss=1.06]\n",
      "Epoch 97: 100%|██████████| 12/12 [00:00<00:00, 169.83batch/s, loss=1.07]\n",
      "Epoch 98: 100%|██████████| 12/12 [00:00<00:00, 156.40batch/s, loss=1.06]\n",
      "Epoch 99: 100%|██████████| 12/12 [00:00<00:00, 160.65batch/s, loss=1.06]\n"
     ]
    }
   ],
   "source": [
    "# training loop\n",
    "for epoch in range(n_epochs):\n",
    "    model.train()\n",
    "    with tqdm.tqdm(batch_start, unit=\"batch\", mininterval=0, disable=False) as bar:\n",
    "        bar.set_description(f\"Epoch {epoch}\")\n",
    "        for start in bar:\n",
    "            # take a batch\n",
    "            X_batch = X_train_tensor[start:start+batch_size]\n",
    "            y_batch = y_train_tensor[start:start+batch_size]\n",
    "            # forward pass\n",
    "            y_pred_prob = model(X_batch)\n",
    "            \n",
    "            loss = loss_fn(y_pred_prob, y_batch)\n",
    "\n",
    "            train_history.append(float(loss))\n",
    "            # backward pass\n",
    "            optimizer.zero_grad()\n",
    "            loss.backward()\n",
    "            # update weights\n",
    "            optimizer.step()\n",
    "            # print progress\n",
    "            bar.set_postfix(loss=float(loss))\n",
    "    # evaluate accuracy at end of each epoch\n",
    "    model.eval()\n",
    "    y_pred_prob = model(X_val_tensor)\n",
    "    cross_entropy = loss_fn(y_pred_prob, y_val_tensor)\n",
    "    cross_entropy = float(cross_entropy)\n",
    "    eval_history.append(cross_entropy)\n",
    "    # best_weights = copy.deepcopy(model.state_dict())\n",
    "    if cross_entropy < best_cross_entropy:\n",
    "        best_cross_entropy = cross_entropy\n",
    "        best_weights = copy.deepcopy(model.state_dict())"
   ]
  },
  {
   "cell_type": "code",
   "execution_count": 19,
   "id": "eab232de",
   "metadata": {},
   "outputs": [
    {
     "name": "stdout",
     "output_type": "stream",
     "text": [
      "Number of correct predictions tensor(185, device='cuda:0')\n",
      "tensor(0.5394, device='cuda:0')\n"
     ]
    }
   ],
   "source": [
    "model.load_state_dict(best_weights)\n",
    "\n",
    "# Set to evaluation mode if you're going to evaluate or predict\n",
    "model.eval()\n",
    "# Now use model for evaluation or prediction\n",
    "y_pred_prob_all = model(X_tensor)\n",
    "accuracy = calculate_accuracy(y_pred_prob_all,y_tensor)\n",
    "print(accuracy)\n"
   ]
  },
  {
   "cell_type": "code",
   "execution_count": null,
   "id": "ee761b5c",
   "metadata": {},
   "outputs": [],
   "source": []
  }
 ],
 "metadata": {
  "kernelspec": {
   "display_name": "MLEnv",
   "language": "python",
   "name": "python3"
  },
  "language_info": {
   "codemirror_mode": {
    "name": "ipython",
    "version": 3
   },
   "file_extension": ".py",
   "mimetype": "text/x-python",
   "name": "python",
   "nbconvert_exporter": "python",
   "pygments_lexer": "ipython3",
   "version": "3.10.11"
  }
 },
 "nbformat": 4,
 "nbformat_minor": 5
}
