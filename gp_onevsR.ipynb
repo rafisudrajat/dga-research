{
 "cells": [
  {
   "cell_type": "code",
   "execution_count": 1,
   "id": "530ab33f",
   "metadata": {},
   "outputs": [],
   "source": [
    "from train_gp import *\n",
    "import pandas as pd\n",
    "import numpy as np\n",
    "import matplotlib.pyplot as plt\n",
    "from sklearn.decomposition import PCA\n",
    "from sklearn.gaussian_process.kernels import ConstantKernel, RBF"
   ]
  },
  {
   "cell_type": "code",
   "execution_count": 2,
   "id": "25b2d9cb",
   "metadata": {},
   "outputs": [],
   "source": [
    "small_dataset_path = 'data\\DGA TC10.xlsx'"
   ]
  },
  {
   "cell_type": "code",
   "execution_count": 3,
   "id": "5e618028",
   "metadata": {},
   "outputs": [
    {
     "name": "stdout",
     "output_type": "stream",
     "text": [
      "343\n"
     ]
    },
    {
     "data": {
      "image/png": "[encoded data removed]",
      "text/plain": [
       "<Figure size 800x500 with 1 Axes>"
      ]
     },
     "metadata": {},
     "output_type": "display_data"
    }
   ],
   "source": [
    "# Read the test data\n",
    "small_dataset = pd.read_excel(small_dataset_path, sheet_name='Sheet1')\n",
    "small_dataset = transform_small_dataset(small_dataset)\n",
    "print(len(small_dataset))\n",
    "\n",
    "# Plot histogram of Justifikasi column\n",
    "plt.figure(figsize=(8, 5))\n",
    "plt.hist(small_dataset['Justifikasi'].astype(str), bins=30, color='blue', alpha=0.7)\n",
    "plt.title('Histogram of Justifikasi')\n",
    "plt.show()"
   ]
  },
  {
   "cell_type": "markdown",
   "id": "b0ef7dd9",
   "metadata": {},
   "source": [
    "# Gaussian Process Classificiation"
   ]
  },
  {
   "cell_type": "markdown",
   "id": "42f11eaf",
   "metadata": {},
   "source": [
    "## D1 vs R"
   ]
  },
  {
   "cell_type": "code",
   "execution_count": 4,
   "id": "cb318b6c",
   "metadata": {},
   "outputs": [],
   "source": [
    "D1VsR_data_generator = OneVsRestDataExtraction(small_dataset,\"D1\",random_state=100)\n",
    "D1VsR_reports_name = [\"D1vsR_10_5\",\"D1vsR_15_5\",\"D1vsR_20_10\",\"D1vsR_25_10\",\"D1vsR_30_15\",\"D1vsR_35_15\"]"
   ]
  },
  {
   "cell_type": "code",
   "execution_count": 5,
   "id": "74bf4e40",
   "metadata": {},
   "outputs": [],
   "source": [
    "rbf = ConstantKernel(1.0) * RBF(length_scale=1.0)\n",
    "D1vsR_gpc = GaussianProcessClassifier(kernel=rbf, n_restarts_optimizer=20, max_iter_predict=400, random_state=3)"
   ]
  },
  {
   "cell_type": "code",
   "execution_count": 6,
   "id": "18cee0fb",
   "metadata": {},
   "outputs": [
    {
     "name": "stderr",
     "output_type": "stream",
     "text": [
      "c:\\Users\\Rafi\\miniconda3\\envs\\MLEnv\\lib\\site-packages\\sklearn\\gaussian_process\\_gpc.py:477: ConvergenceWarning: lbfgs failed to converge (status=2):\n",
      "ABNORMAL_TERMINATION_IN_LNSRCH.\n",
      "\n",
      "Increase the number of iterations (max_iter) or scale the data as shown in:\n",
      "    https://scikit-learn.org/stable/modules/preprocessing.html\n",
      "  _check_optimize_result(\"lbfgs\", opt_res)\n",
      "c:\\Users\\Rafi\\miniconda3\\envs\\MLEnv\\lib\\site-packages\\sklearn\\gaussian_process\\kernels.py:429: ConvergenceWarning: The optimal value found for dimension 0 of parameter k1__constant_value is close to the specified upper bound 100000.0. Increasing the bound and calling fit again may find a better value.\n",
      "  warnings.warn(\n",
      "c:\\Users\\Rafi\\miniconda3\\envs\\MLEnv\\lib\\site-packages\\sklearn\\gaussian_process\\kernels.py:429: ConvergenceWarning: The optimal value found for dimension 0 of parameter k2__length_scale is close to the specified upper bound 100000.0. Increasing the bound and calling fit again may find a better value.\n",
      "  warnings.warn(\n",
      "c:\\Users\\Rafi\\miniconda3\\envs\\MLEnv\\lib\\site-packages\\sklearn\\gaussian_process\\_gpc.py:477: ConvergenceWarning: lbfgs failed to converge (status=2):\n",
      "ABNORMAL_TERMINATION_IN_LNSRCH.\n",
      "\n",
      "Increase the number of iterations (max_iter) or scale the data as shown in:\n",
      "    https://scikit-learn.org/stable/modules/preprocessing.html\n",
      "  _check_optimize_result(\"lbfgs\", opt_res)\n",
      "c:\\Users\\Rafi\\miniconda3\\envs\\MLEnv\\lib\\site-packages\\sklearn\\gaussian_process\\_gpc.py:456: RuntimeWarning: overflow encountered in exp\n",
      "  - np.log1p(np.exp(-(self.y_train_ * 2 - 1) * f)).sum()\n"
     ]
    }
   ],
   "source": [
    "D1vsR_reports = train_onevsrest_gpc_with_data_variation(D1vsR_gpc,\n",
    "                                        D1VsR_data_generator, \n",
    "                                        [10,15,20,25,30,35],\n",
    "                                        [5,5,10,10,15,15],\n",
    "                                        D1VsR_reports_name)"
   ]
  },
  {
   "cell_type": "code",
   "execution_count": 7,
   "id": "5ab17ac9",
   "metadata": {},
   "outputs": [
    {
     "name": "stdout",
     "output_type": "stream",
     "text": [
      "========================================\n",
      "Classifier: D1vsR\n",
      "----------------------------------------\n",
      "Training Data Distribution:\n",
      "  Selected class samples : 10\n",
      "  Rest of class samples  : 25\n",
      "----------------------------------------\n",
      "Training Accuracy:\n",
      "  Correct predictions on sampled test data   : 251\n",
      "  Incorrect predictions on sampled test data : 57\n",
      "  Percentage of correct prediction : 81.4935064935065 %\n",
      "========================================\n",
      "\n",
      "========================================\n",
      "Classifier: D1vsR\n",
      "----------------------------------------\n",
      "Training Data Distribution:\n",
      "  Selected class samples : 15\n",
      "  Rest of class samples  : 25\n",
      "----------------------------------------\n",
      "Training Accuracy:\n",
      "  Correct predictions on sampled test data   : 258\n",
      "  Incorrect predictions on sampled test data : 45\n",
      "  Percentage of correct prediction : 85.14851485148515 %\n",
      "========================================\n",
      "\n",
      "========================================\n",
      "Classifier: D1vsR\n",
      "----------------------------------------\n",
      "Training Data Distribution:\n",
      "  Selected class samples : 20\n",
      "  Rest of class samples  : 50\n",
      "----------------------------------------\n",
      "Training Accuracy:\n",
      "  Correct predictions on sampled test data   : 252\n",
      "  Incorrect predictions on sampled test data : 21\n",
      "  Percentage of correct prediction : 92.3076923076923 %\n",
      "========================================\n",
      "\n",
      "========================================\n",
      "Classifier: D1vsR\n",
      "----------------------------------------\n",
      "Training Data Distribution:\n",
      "  Selected class samples : 25\n",
      "  Rest of class samples  : 50\n",
      "----------------------------------------\n",
      "Training Accuracy:\n",
      "  Correct predictions on sampled test data   : 221\n",
      "  Incorrect predictions on sampled test data : 47\n",
      "  Percentage of correct prediction : 82.46268656716418 %\n",
      "========================================\n",
      "\n",
      "========================================\n",
      "Classifier: D1vsR\n",
      "----------------------------------------\n",
      "Training Data Distribution:\n",
      "  Selected class samples : 30\n",
      "  Rest of class samples  : 75\n",
      "----------------------------------------\n",
      "Training Accuracy:\n",
      "  Correct predictions on sampled test data   : 204\n",
      "  Incorrect predictions on sampled test data : 34\n",
      "  Percentage of correct prediction : 85.71428571428571 %\n",
      "========================================\n",
      "\n",
      "========================================\n",
      "Classifier: D1vsR\n",
      "----------------------------------------\n",
      "Training Data Distribution:\n",
      "  Selected class samples : 35\n",
      "  Rest of class samples  : 75\n",
      "----------------------------------------\n",
      "Training Accuracy:\n",
      "  Correct predictions on sampled test data   : 204\n",
      "  Incorrect predictions on sampled test data : 29\n",
      "  Percentage of correct prediction : 87.55364806866953 %\n",
      "========================================\n",
      "\n"
     ]
    }
   ],
   "source": [
    "print_report(D1VsR_reports_name, D1vsR_reports)"
   ]
  },
  {
   "cell_type": "markdown",
   "id": "f7c918d7",
   "metadata": {},
   "source": [
    "## D2 vs R"
   ]
  },
  {
   "cell_type": "code",
   "execution_count": 8,
   "id": "36defae8",
   "metadata": {},
   "outputs": [],
   "source": [
    "D2VsR_data_generator = OneVsRestDataExtraction(small_dataset,\"D2\",random_state=100)\n",
    "D2VsR_reports_name = [\"D2vsR_10_5\",\"D2vsR_15_5\",\"D2vsR_20_10\",\"D2vsR_25_10\",\"D2vsR_30_15\",\"D2vsR_35_15\"]"
   ]
  },
  {
   "cell_type": "code",
   "execution_count": 9,
   "id": "c4f608e2",
   "metadata": {},
   "outputs": [],
   "source": [
    "rbf = ConstantKernel(1.0) * RBF(length_scale=1.0)\n",
    "D2vsR_gpc = GaussianProcessClassifier(kernel=rbf, n_restarts_optimizer=15, max_iter_predict=300, random_state=10)"
   ]
  },
  {
   "cell_type": "code",
   "execution_count": 10,
   "id": "71cc806b",
   "metadata": {},
   "outputs": [
    {
     "name": "stderr",
     "output_type": "stream",
     "text": [
      "c:\\Users\\Rafi\\miniconda3\\envs\\MLEnv\\lib\\site-packages\\sklearn\\gaussian_process\\_gpc.py:477: ConvergenceWarning: lbfgs failed to converge (status=2):\n",
      "ABNORMAL_TERMINATION_IN_LNSRCH.\n",
      "\n",
      "Increase the number of iterations (max_iter) or scale the data as shown in:\n",
      "    https://scikit-learn.org/stable/modules/preprocessing.html\n",
      "  _check_optimize_result(\"lbfgs\", opt_res)\n",
      "c:\\Users\\Rafi\\miniconda3\\envs\\MLEnv\\lib\\site-packages\\sklearn\\gaussian_process\\kernels.py:429: ConvergenceWarning: The optimal value found for dimension 0 of parameter k2__length_scale is close to the specified upper bound 100000.0. Increasing the bound and calling fit again may find a better value.\n",
      "  warnings.warn(\n"
     ]
    }
   ],
   "source": [
    "D2vsR_reports = train_onevsrest_gpc_with_data_variation(D2vsR_gpc,\n",
    "                                        D2VsR_data_generator, \n",
    "                                        [10,15,20,25,30,35],\n",
    "                                        [5,5,10,10,15,15],\n",
    "                                        D2VsR_reports_name)"
   ]
  },
  {
   "cell_type": "code",
   "execution_count": 11,
   "id": "ef20fbe6",
   "metadata": {},
   "outputs": [
    {
     "name": "stdout",
     "output_type": "stream",
     "text": [
      "========================================\n",
      "Classifier: D2vsR\n",
      "----------------------------------------\n",
      "Training Data Distribution:\n",
      "  Selected class samples : 10\n",
      "  Rest of class samples  : 25\n",
      "----------------------------------------\n",
      "Training Accuracy:\n",
      "  Correct predictions on sampled test data   : 253\n",
      "  Incorrect predictions on sampled test data : 55\n",
      "  Percentage of correct prediction : 82.14285714285714 %\n",
      "========================================\n",
      "\n",
      "========================================\n",
      "Classifier: D2vsR\n",
      "----------------------------------------\n",
      "Training Data Distribution:\n",
      "  Selected class samples : 15\n",
      "  Rest of class samples  : 25\n",
      "----------------------------------------\n",
      "Training Accuracy:\n",
      "  Correct predictions on sampled test data   : 231\n",
      "  Incorrect predictions on sampled test data : 72\n",
      "  Percentage of correct prediction : 76.23762376237624 %\n",
      "========================================\n",
      "\n",
      "========================================\n",
      "Classifier: D2vsR\n",
      "----------------------------------------\n",
      "Training Data Distribution:\n",
      "  Selected class samples : 20\n",
      "  Rest of class samples  : 50\n",
      "----------------------------------------\n",
      "Training Accuracy:\n",
      "  Correct predictions on sampled test data   : 209\n",
      "  Incorrect predictions on sampled test data : 64\n",
      "  Percentage of correct prediction : 76.55677655677655 %\n",
      "========================================\n",
      "\n",
      "========================================\n",
      "Classifier: D2vsR\n",
      "----------------------------------------\n",
      "Training Data Distribution:\n",
      "  Selected class samples : 25\n",
      "  Rest of class samples  : 50\n",
      "----------------------------------------\n",
      "Training Accuracy:\n",
      "  Correct predictions on sampled test data   : 207\n",
      "  Incorrect predictions on sampled test data : 61\n",
      "  Percentage of correct prediction : 77.23880597014924 %\n",
      "========================================\n",
      "\n",
      "========================================\n",
      "Classifier: D2vsR\n",
      "----------------------------------------\n",
      "Training Data Distribution:\n",
      "  Selected class samples : 30\n",
      "  Rest of class samples  : 75\n",
      "----------------------------------------\n",
      "Training Accuracy:\n",
      "  Correct predictions on sampled test data   : 208\n",
      "  Incorrect predictions on sampled test data : 30\n",
      "  Percentage of correct prediction : 87.39495798319328 %\n",
      "========================================\n",
      "\n",
      "========================================\n",
      "Classifier: D2vsR\n",
      "----------------------------------------\n",
      "Training Data Distribution:\n",
      "  Selected class samples : 35\n",
      "  Rest of class samples  : 75\n",
      "----------------------------------------\n",
      "Training Accuracy:\n",
      "  Correct predictions on sampled test data   : 180\n",
      "  Incorrect predictions on sampled test data : 53\n",
      "  Percentage of correct prediction : 77.25321888412017 %\n",
      "========================================\n",
      "\n"
     ]
    }
   ],
   "source": [
    "print_report(D2VsR_reports_name, D2vsR_reports)"
   ]
  },
  {
   "cell_type": "markdown",
   "id": "9f22a75c",
   "metadata": {},
   "source": [
    "## PD vs R"
   ]
  },
  {
   "cell_type": "code",
   "execution_count": 12,
   "id": "2e44e3cc",
   "metadata": {},
   "outputs": [],
   "source": [
    "PDVsR_data_generator = OneVsRestDataExtraction(small_dataset,\"PD\",random_state=90)\n",
    "PDVsR_reports_name = [\"PDvsR_10_5\",\"PDvsR_15_5\",\"PDvsR_20_10\",\"PDvsR_25_10\",\"PDvsR_30_15\",\"PDvsR_35_15\"]"
   ]
  },
  {
   "cell_type": "code",
   "execution_count": 13,
   "id": "22876a60",
   "metadata": {},
   "outputs": [],
   "source": [
    "rbf = ConstantKernel(1.0) * RBF(length_scale=1.0)\n",
    "PDvsR_gpc = GaussianProcessClassifier(kernel=rbf, n_restarts_optimizer=15, max_iter_predict=400, random_state=11)"
   ]
  },
  {
   "cell_type": "code",
   "execution_count": 14,
   "id": "475a5b29",
   "metadata": {},
   "outputs": [
    {
     "name": "stderr",
     "output_type": "stream",
     "text": [
      "c:\\Users\\Rafi\\miniconda3\\envs\\MLEnv\\lib\\site-packages\\sklearn\\gaussian_process\\kernels.py:429: ConvergenceWarning: The optimal value found for dimension 0 of parameter k2__length_scale is close to the specified upper bound 100000.0. Increasing the bound and calling fit again may find a better value.\n",
      "  warnings.warn(\n",
      "c:\\Users\\Rafi\\miniconda3\\envs\\MLEnv\\lib\\site-packages\\sklearn\\gaussian_process\\kernels.py:429: ConvergenceWarning: The optimal value found for dimension 0 of parameter k1__constant_value is close to the specified upper bound 100000.0. Increasing the bound and calling fit again may find a better value.\n",
      "  warnings.warn(\n",
      "c:\\Users\\Rafi\\miniconda3\\envs\\MLEnv\\lib\\site-packages\\sklearn\\gaussian_process\\_gpc.py:477: ConvergenceWarning: lbfgs failed to converge (status=2):\n",
      "ABNORMAL_TERMINATION_IN_LNSRCH.\n",
      "\n",
      "Increase the number of iterations (max_iter) or scale the data as shown in:\n",
      "    https://scikit-learn.org/stable/modules/preprocessing.html\n",
      "  _check_optimize_result(\"lbfgs\", opt_res)\n",
      "c:\\Users\\Rafi\\miniconda3\\envs\\MLEnv\\lib\\site-packages\\sklearn\\gaussian_process\\kernels.py:429: ConvergenceWarning: The optimal value found for dimension 0 of parameter k1__constant_value is close to the specified upper bound 100000.0. Increasing the bound and calling fit again may find a better value.\n",
      "  warnings.warn(\n",
      "c:\\Users\\Rafi\\miniconda3\\envs\\MLEnv\\lib\\site-packages\\sklearn\\gaussian_process\\kernels.py:429: ConvergenceWarning: The optimal value found for dimension 0 of parameter k1__constant_value is close to the specified upper bound 100000.0. Increasing the bound and calling fit again may find a better value.\n",
      "  warnings.warn(\n"
     ]
    }
   ],
   "source": [
    "PDvsR_reports = train_onevsrest_gpc_with_data_variation(PDvsR_gpc,\n",
    "                                        PDVsR_data_generator, \n",
    "                                        [10,15,20,25,30,35],\n",
    "                                        [5,5,10,10,15,15],\n",
    "                                        PDVsR_reports_name)"
   ]
  },
  {
   "cell_type": "code",
   "execution_count": 15,
   "id": "134d8c60",
   "metadata": {},
   "outputs": [
    {
     "name": "stdout",
     "output_type": "stream",
     "text": [
      "========================================\n",
      "Classifier: PDvsR\n",
      "----------------------------------------\n",
      "Training Data Distribution:\n",
      "  Selected class samples : 10\n",
      "  Rest of class samples  : 25\n",
      "----------------------------------------\n",
      "Training Accuracy:\n",
      "  Correct predictions on sampled test data   : 279\n",
      "  Incorrect predictions on sampled test data : 29\n",
      "  Percentage of correct prediction : 90.5844155844156 %\n",
      "========================================\n",
      "\n",
      "========================================\n",
      "Classifier: PDvsR\n",
      "----------------------------------------\n",
      "Training Data Distribution:\n",
      "  Selected class samples : 15\n",
      "  Rest of class samples  : 25\n",
      "----------------------------------------\n",
      "Training Accuracy:\n",
      "  Correct predictions on sampled test data   : 287\n",
      "  Incorrect predictions on sampled test data : 16\n",
      "  Percentage of correct prediction : 94.71947194719472 %\n",
      "========================================\n",
      "\n",
      "========================================\n",
      "Classifier: PDvsR\n",
      "----------------------------------------\n",
      "Training Data Distribution:\n",
      "  Selected class samples : 20\n",
      "  Rest of class samples  : 50\n",
      "----------------------------------------\n",
      "Training Accuracy:\n",
      "  Correct predictions on sampled test data   : 264\n",
      "  Incorrect predictions on sampled test data : 9\n",
      "  Percentage of correct prediction : 96.7032967032967 %\n",
      "========================================\n",
      "\n",
      "========================================\n",
      "Classifier: PDvsR\n",
      "----------------------------------------\n",
      "Training Data Distribution:\n",
      "  Selected class samples : 25\n",
      "  Rest of class samples  : 50\n",
      "----------------------------------------\n",
      "Training Accuracy:\n",
      "  Correct predictions on sampled test data   : 254\n",
      "  Incorrect predictions on sampled test data : 14\n",
      "  Percentage of correct prediction : 94.77611940298507 %\n",
      "========================================\n",
      "\n",
      "========================================\n",
      "Classifier: PDvsR\n",
      "----------------------------------------\n",
      "Training Data Distribution:\n",
      "  Selected class samples : 30\n",
      "  Rest of class samples  : 75\n",
      "----------------------------------------\n",
      "Training Accuracy:\n",
      "  Correct predictions on sampled test data   : 234\n",
      "  Incorrect predictions on sampled test data : 4\n",
      "  Percentage of correct prediction : 98.31932773109243 %\n",
      "========================================\n",
      "\n",
      "========================================\n",
      "Classifier: PDvsR\n",
      "----------------------------------------\n",
      "Training Data Distribution:\n",
      "  Selected class samples : 35\n",
      "  Rest of class samples  : 75\n",
      "----------------------------------------\n",
      "Training Accuracy:\n",
      "  Correct predictions on sampled test data   : 227\n",
      "  Incorrect predictions on sampled test data : 6\n",
      "  Percentage of correct prediction : 97.42489270386267 %\n",
      "========================================\n",
      "\n"
     ]
    }
   ],
   "source": [
    "print_report(PDVsR_reports_name, PDvsR_reports)"
   ]
  },
  {
   "cell_type": "markdown",
   "id": "48d969fb",
   "metadata": {},
   "source": [
    "## T1 vs R"
   ]
  },
  {
   "cell_type": "code",
   "execution_count": 16,
   "id": "af50c009",
   "metadata": {},
   "outputs": [],
   "source": [
    "T1VsR_data_generator = OneVsRestDataExtraction(small_dataset,\"T1\",random_state=95)\n",
    "T1VsR_reports_name = [\"T1vsR_10_5\",\"T1vsR_15_5\",\"T1vsR_20_10\",\"T1vsR_25_10\",\"T1vsR_30_15\",\"T1vsR_35_15\"]"
   ]
  },
  {
   "cell_type": "code",
   "execution_count": 17,
   "id": "10120c7a",
   "metadata": {},
   "outputs": [],
   "source": [
    "rbf = ConstantKernel(1.0) * RBF(length_scale=1.0)\n",
    "T1vsR_gpc = GaussianProcessClassifier(kernel=rbf, n_restarts_optimizer=15, max_iter_predict=300, random_state=29)"
   ]
  },
  {
   "cell_type": "code",
   "execution_count": 18,
   "id": "f9ab02a5",
   "metadata": {},
   "outputs": [],
   "source": [
    "T1vsR_reports = train_onevsrest_gpc_with_data_variation(T1vsR_gpc,\n",
    "                                        T1VsR_data_generator, \n",
    "                                        [10,15,20,25,30,35],\n",
    "                                        [5,5,10,10,15,15],\n",
    "                                        T1VsR_reports_name)"
   ]
  },
  {
   "cell_type": "code",
   "execution_count": 19,
   "id": "193a352f",
   "metadata": {},
   "outputs": [
    {
     "name": "stdout",
     "output_type": "stream",
     "text": [
      "========================================\n",
      "Classifier: T1vsR\n",
      "----------------------------------------\n",
      "Training Data Distribution:\n",
      "  Selected class samples : 10\n",
      "  Rest of class samples  : 25\n",
      "----------------------------------------\n",
      "Training Accuracy:\n",
      "  Correct predictions on sampled test data   : 266\n",
      "  Incorrect predictions on sampled test data : 42\n",
      "  Percentage of correct prediction : 86.36363636363636 %\n",
      "========================================\n",
      "\n",
      "========================================\n",
      "Classifier: T1vsR\n",
      "----------------------------------------\n",
      "Training Data Distribution:\n",
      "  Selected class samples : 15\n",
      "  Rest of class samples  : 25\n",
      "----------------------------------------\n",
      "Training Accuracy:\n",
      "  Correct predictions on sampled test data   : 258\n",
      "  Incorrect predictions on sampled test data : 45\n",
      "  Percentage of correct prediction : 85.14851485148515 %\n",
      "========================================\n",
      "\n",
      "========================================\n",
      "Classifier: T1vsR\n",
      "----------------------------------------\n",
      "Training Data Distribution:\n",
      "  Selected class samples : 20\n",
      "  Rest of class samples  : 50\n",
      "----------------------------------------\n",
      "Training Accuracy:\n",
      "  Correct predictions on sampled test data   : 240\n",
      "  Incorrect predictions on sampled test data : 33\n",
      "  Percentage of correct prediction : 87.91208791208791 %\n",
      "========================================\n",
      "\n",
      "========================================\n",
      "Classifier: T1vsR\n",
      "----------------------------------------\n",
      "Training Data Distribution:\n",
      "  Selected class samples : 25\n",
      "  Rest of class samples  : 50\n",
      "----------------------------------------\n",
      "Training Accuracy:\n",
      "  Correct predictions on sampled test data   : 242\n",
      "  Incorrect predictions on sampled test data : 26\n",
      "  Percentage of correct prediction : 90.29850746268657 %\n",
      "========================================\n",
      "\n",
      "========================================\n",
      "Classifier: T1vsR\n",
      "----------------------------------------\n",
      "Training Data Distribution:\n",
      "  Selected class samples : 30\n",
      "  Rest of class samples  : 75\n",
      "----------------------------------------\n",
      "Training Accuracy:\n",
      "  Correct predictions on sampled test data   : 222\n",
      "  Incorrect predictions on sampled test data : 16\n",
      "  Percentage of correct prediction : 93.27731092436974 %\n",
      "========================================\n",
      "\n",
      "========================================\n",
      "Classifier: T1vsR\n",
      "----------------------------------------\n",
      "Training Data Distribution:\n",
      "  Selected class samples : 35\n",
      "  Rest of class samples  : 75\n",
      "----------------------------------------\n",
      "Training Accuracy:\n",
      "  Correct predictions on sampled test data   : 208\n",
      "  Incorrect predictions on sampled test data : 25\n",
      "  Percentage of correct prediction : 89.27038626609442 %\n",
      "========================================\n",
      "\n"
     ]
    }
   ],
   "source": [
    "print_report(T1VsR_reports_name, T1vsR_reports)"
   ]
  },
  {
   "cell_type": "markdown",
   "id": "1b3e6aea",
   "metadata": {},
   "source": [
    "## T2 vs R"
   ]
  },
  {
   "cell_type": "code",
   "execution_count": 20,
   "id": "b3cc7420",
   "metadata": {},
   "outputs": [],
   "source": [
    "T2VsR_data_generator = OneVsRestDataExtraction(small_dataset,\"T2\",random_state=95)\n",
    "T2VsR_reports_name = [\"T2vsR_10_5\",\"T2vsR_15_5\",\"T2vsR_20_10\",\"T2vsR_25_10\",\"T2vsR_30_15\",\"T2vsR_35_15\"]"
   ]
  },
  {
   "cell_type": "code",
   "execution_count": 21,
   "id": "25788c61",
   "metadata": {},
   "outputs": [],
   "source": [
    "rbf = ConstantKernel(1.0) * RBF(length_scale=1.0)\n",
    "T2vsR_gpc = GaussianProcessClassifier(kernel=rbf, n_restarts_optimizer=15, max_iter_predict=300, random_state=39)"
   ]
  },
  {
   "cell_type": "code",
   "execution_count": 22,
   "id": "4e6f5b14",
   "metadata": {},
   "outputs": [
    {
     "name": "stderr",
     "output_type": "stream",
     "text": [
      "c:\\Users\\Rafi\\miniconda3\\envs\\MLEnv\\lib\\site-packages\\sklearn\\gaussian_process\\kernels.py:429: ConvergenceWarning: The optimal value found for dimension 0 of parameter k1__constant_value is close to the specified upper bound 100000.0. Increasing the bound and calling fit again may find a better value.\n",
      "  warnings.warn(\n"
     ]
    }
   ],
   "source": [
    "T2vsR_reports = train_onevsrest_gpc_with_data_variation(T2vsR_gpc,\n",
    "                                        T2VsR_data_generator, \n",
    "                                        [10,15,20,25,30,35],\n",
    "                                        [5,5,10,10,15,15],\n",
    "                                        T2VsR_reports_name)"
   ]
  },
  {
   "cell_type": "code",
   "execution_count": 23,
   "id": "3e3e0124",
   "metadata": {},
   "outputs": [
    {
     "name": "stdout",
     "output_type": "stream",
     "text": [
      "========================================\n",
      "Classifier: T2vsR\n",
      "----------------------------------------\n",
      "Training Data Distribution:\n",
      "  Selected class samples : 10\n",
      "  Rest of class samples  : 25\n",
      "----------------------------------------\n",
      "Training Accuracy:\n",
      "  Correct predictions on sampled test data   : 252\n",
      "  Incorrect predictions on sampled test data : 56\n",
      "  Percentage of correct prediction : 81.81818181818183 %\n",
      "========================================\n",
      "\n",
      "========================================\n",
      "Classifier: T2vsR\n",
      "----------------------------------------\n",
      "Training Data Distribution:\n",
      "  Selected class samples : 15\n",
      "  Rest of class samples  : 25\n",
      "----------------------------------------\n",
      "Training Accuracy:\n",
      "  Correct predictions on sampled test data   : 251\n",
      "  Incorrect predictions on sampled test data : 52\n",
      "  Percentage of correct prediction : 82.83828382838284 %\n",
      "========================================\n",
      "\n",
      "========================================\n",
      "Classifier: T2vsR\n",
      "----------------------------------------\n",
      "Training Data Distribution:\n",
      "  Selected class samples : 20\n",
      "  Rest of class samples  : 50\n",
      "----------------------------------------\n",
      "Training Accuracy:\n",
      "  Correct predictions on sampled test data   : 241\n",
      "  Incorrect predictions on sampled test data : 32\n",
      "  Percentage of correct prediction : 88.27838827838828 %\n",
      "========================================\n",
      "\n",
      "========================================\n",
      "Classifier: T2vsR\n",
      "----------------------------------------\n",
      "Training Data Distribution:\n",
      "  Selected class samples : 25\n",
      "  Rest of class samples  : 50\n",
      "----------------------------------------\n",
      "Training Accuracy:\n",
      "  Correct predictions on sampled test data   : 225\n",
      "  Incorrect predictions on sampled test data : 43\n",
      "  Percentage of correct prediction : 83.95522388059702 %\n",
      "========================================\n",
      "\n",
      "========================================\n",
      "Classifier: T2vsR\n",
      "----------------------------------------\n",
      "Training Data Distribution:\n",
      "  Selected class samples : 30\n",
      "  Rest of class samples  : 75\n",
      "----------------------------------------\n",
      "Training Accuracy:\n",
      "  Correct predictions on sampled test data   : 201\n",
      "  Incorrect predictions on sampled test data : 37\n",
      "  Percentage of correct prediction : 84.45378151260505 %\n",
      "========================================\n",
      "\n",
      "========================================\n",
      "Classifier: T2vsR\n",
      "----------------------------------------\n",
      "Training Data Distribution:\n",
      "  Selected class samples : 35\n",
      "  Rest of class samples  : 75\n",
      "----------------------------------------\n",
      "Training Accuracy:\n",
      "  Correct predictions on sampled test data   : 184\n",
      "  Incorrect predictions on sampled test data : 49\n",
      "  Percentage of correct prediction : 78.96995708154506 %\n",
      "========================================\n",
      "\n"
     ]
    }
   ],
   "source": [
    "print_report(T2VsR_reports_name, T2vsR_reports)"
   ]
  },
  {
   "cell_type": "markdown",
   "id": "85e3dce3",
   "metadata": {},
   "source": [
    "## T3 vs R"
   ]
  },
  {
   "cell_type": "code",
   "execution_count": 24,
   "id": "8a1d4131",
   "metadata": {},
   "outputs": [],
   "source": [
    "T3VsR_data_generator = OneVsRestDataExtraction(small_dataset,\"T3\",random_state=47)\n",
    "T3VsR_reports_name = [\"T3vsR_10_5\",\"T3vsR_15_5\",\"T3vsR_20_10\",\"T3vsR_25_10\",\"T3vsR_30_15\",\"T3vsR_35_15\"]"
   ]
  },
  {
   "cell_type": "code",
   "execution_count": 25,
   "id": "b873d277",
   "metadata": {},
   "outputs": [],
   "source": [
    "rbf = ConstantKernel(1.0) * RBF(length_scale=1.0)\n",
    "T3vsR_gpc = GaussianProcessClassifier(kernel=rbf, n_restarts_optimizer=15, max_iter_predict=300, random_state=73)"
   ]
  },
  {
   "cell_type": "code",
   "execution_count": 26,
   "id": "19261839",
   "metadata": {},
   "outputs": [
    {
     "name": "stderr",
     "output_type": "stream",
     "text": [
      "c:\\Users\\Rafi\\miniconda3\\envs\\MLEnv\\lib\\site-packages\\sklearn\\gaussian_process\\kernels.py:429: ConvergenceWarning: The optimal value found for dimension 0 of parameter k1__constant_value is close to the specified upper bound 100000.0. Increasing the bound and calling fit again may find a better value.\n",
      "  warnings.warn(\n",
      "c:\\Users\\Rafi\\miniconda3\\envs\\MLEnv\\lib\\site-packages\\sklearn\\gaussian_process\\kernels.py:429: ConvergenceWarning: The optimal value found for dimension 0 of parameter k1__constant_value is close to the specified upper bound 100000.0. Increasing the bound and calling fit again may find a better value.\n",
      "  warnings.warn(\n",
      "c:\\Users\\Rafi\\miniconda3\\envs\\MLEnv\\lib\\site-packages\\sklearn\\gaussian_process\\kernels.py:429: ConvergenceWarning: The optimal value found for dimension 0 of parameter k1__constant_value is close to the specified upper bound 100000.0. Increasing the bound and calling fit again may find a better value.\n",
      "  warnings.warn(\n",
      "c:\\Users\\Rafi\\miniconda3\\envs\\MLEnv\\lib\\site-packages\\sklearn\\gaussian_process\\_gpc.py:477: ConvergenceWarning: lbfgs failed to converge (status=2):\n",
      "ABNORMAL_TERMINATION_IN_LNSRCH.\n",
      "\n",
      "Increase the number of iterations (max_iter) or scale the data as shown in:\n",
      "    https://scikit-learn.org/stable/modules/preprocessing.html\n",
      "  _check_optimize_result(\"lbfgs\", opt_res)\n",
      "c:\\Users\\Rafi\\miniconda3\\envs\\MLEnv\\lib\\site-packages\\sklearn\\gaussian_process\\kernels.py:429: ConvergenceWarning: The optimal value found for dimension 0 of parameter k1__constant_value is close to the specified upper bound 100000.0. Increasing the bound and calling fit again may find a better value.\n",
      "  warnings.warn(\n",
      "c:\\Users\\Rafi\\miniconda3\\envs\\MLEnv\\lib\\site-packages\\sklearn\\gaussian_process\\_gpc.py:477: ConvergenceWarning: lbfgs failed to converge (status=2):\n",
      "ABNORMAL_TERMINATION_IN_LNSRCH.\n",
      "\n",
      "Increase the number of iterations (max_iter) or scale the data as shown in:\n",
      "    https://scikit-learn.org/stable/modules/preprocessing.html\n",
      "  _check_optimize_result(\"lbfgs\", opt_res)\n",
      "c:\\Users\\Rafi\\miniconda3\\envs\\MLEnv\\lib\\site-packages\\sklearn\\gaussian_process\\kernels.py:429: ConvergenceWarning: The optimal value found for dimension 0 of parameter k1__constant_value is close to the specified upper bound 100000.0. Increasing the bound and calling fit again may find a better value.\n",
      "  warnings.warn(\n",
      "c:\\Users\\Rafi\\miniconda3\\envs\\MLEnv\\lib\\site-packages\\sklearn\\gaussian_process\\kernels.py:429: ConvergenceWarning: The optimal value found for dimension 0 of parameter k1__constant_value is close to the specified upper bound 100000.0. Increasing the bound and calling fit again may find a better value.\n",
      "  warnings.warn(\n"
     ]
    }
   ],
   "source": [
    "T3vsR_reports = train_onevsrest_gpc_with_data_variation(T3vsR_gpc,\n",
    "                                        T3VsR_data_generator, \n",
    "                                        [10,15,20,25,30,35],\n",
    "                                        [5,5,10,10,15,15],\n",
    "                                        T3VsR_reports_name)"
   ]
  },
  {
   "cell_type": "code",
   "execution_count": 27,
   "id": "bbf2e6db",
   "metadata": {},
   "outputs": [
    {
     "name": "stdout",
     "output_type": "stream",
     "text": [
      "========================================\n",
      "Classifier: T3vsR\n",
      "----------------------------------------\n",
      "Training Data Distribution:\n",
      "  Selected class samples : 10\n",
      "  Rest of class samples  : 25\n",
      "----------------------------------------\n",
      "Training Accuracy:\n",
      "  Correct predictions on sampled test data   : 281\n",
      "  Incorrect predictions on sampled test data : 27\n",
      "  Percentage of correct prediction : 91.23376623376623 %\n",
      "========================================\n",
      "\n",
      "========================================\n",
      "Classifier: T3vsR\n",
      "----------------------------------------\n",
      "Training Data Distribution:\n",
      "  Selected class samples : 15\n",
      "  Rest of class samples  : 25\n",
      "----------------------------------------\n",
      "Training Accuracy:\n",
      "  Correct predictions on sampled test data   : 279\n",
      "  Incorrect predictions on sampled test data : 24\n",
      "  Percentage of correct prediction : 92.07920792079209 %\n",
      "========================================\n",
      "\n",
      "========================================\n",
      "Classifier: T3vsR\n",
      "----------------------------------------\n",
      "Training Data Distribution:\n",
      "  Selected class samples : 20\n",
      "  Rest of class samples  : 50\n",
      "----------------------------------------\n",
      "Training Accuracy:\n",
      "  Correct predictions on sampled test data   : 251\n",
      "  Incorrect predictions on sampled test data : 22\n",
      "  Percentage of correct prediction : 91.94139194139194 %\n",
      "========================================\n",
      "\n",
      "========================================\n",
      "Classifier: T3vsR\n",
      "----------------------------------------\n",
      "Training Data Distribution:\n",
      "  Selected class samples : 25\n",
      "  Rest of class samples  : 50\n",
      "----------------------------------------\n",
      "Training Accuracy:\n",
      "  Correct predictions on sampled test data   : 244\n",
      "  Incorrect predictions on sampled test data : 24\n",
      "  Percentage of correct prediction : 91.04477611940298 %\n",
      "========================================\n",
      "\n",
      "========================================\n",
      "Classifier: T3vsR\n",
      "----------------------------------------\n",
      "Training Data Distribution:\n",
      "  Selected class samples : 30\n",
      "  Rest of class samples  : 75\n",
      "----------------------------------------\n",
      "Training Accuracy:\n",
      "  Correct predictions on sampled test data   : 219\n",
      "  Incorrect predictions on sampled test data : 19\n",
      "  Percentage of correct prediction : 92.01680672268907 %\n",
      "========================================\n",
      "\n",
      "========================================\n",
      "Classifier: T3vsR\n",
      "----------------------------------------\n",
      "Training Data Distribution:\n",
      "  Selected class samples : 35\n",
      "  Rest of class samples  : 75\n",
      "----------------------------------------\n",
      "Training Accuracy:\n",
      "  Correct predictions on sampled test data   : 218\n",
      "  Incorrect predictions on sampled test data : 15\n",
      "  Percentage of correct prediction : 93.56223175965665 %\n",
      "========================================\n",
      "\n"
     ]
    }
   ],
   "source": [
    "print_report(T3VsR_reports_name, T3vsR_reports)"
   ]
  },
  {
   "cell_type": "markdown",
   "id": "28b6466f",
   "metadata": {},
   "source": [
    "## Test all One vs Rest classifier"
   ]
  },
  {
   "cell_type": "code",
   "execution_count": 28,
   "id": "fdbc26b8",
   "metadata": {},
   "outputs": [
    {
     "name": "stderr",
     "output_type": "stream",
     "text": [
      "c:\\Users\\Rafi\\miniconda3\\envs\\MLEnv\\lib\\site-packages\\sklearn\\gaussian_process\\kernels.py:429: ConvergenceWarning: The optimal value found for dimension 0 of parameter k1__constant_value is close to the specified upper bound 100000.0. Increasing the bound and calling fit again may find a better value.\n",
      "  warnings.warn(\n"
     ]
    }
   ],
   "source": [
    "D1vsR_models_name =  [\"D1vsR_10_5\",\"D1vsR_20_10\",\"D1vsR_30_15\"]\n",
    "D1vsR_trained_model = train_onevsrest_gpc_with_data_variation(D1vsR_gpc,\n",
    "                                        D1VsR_data_generator, \n",
    "                                        [10,20,30],\n",
    "                                        [5,10,15],\n",
    "                                        D1vsR_models_name,\n",
    "                                        copy_gpc_model=True)"
   ]
  },
  {
   "cell_type": "code",
   "execution_count": 29,
   "id": "9887afa8",
   "metadata": {},
   "outputs": [
    {
     "name": "stderr",
     "output_type": "stream",
     "text": [
      "c:\\Users\\Rafi\\miniconda3\\envs\\MLEnv\\lib\\site-packages\\sklearn\\gaussian_process\\kernels.py:429: ConvergenceWarning: The optimal value found for dimension 0 of parameter k1__constant_value is close to the specified upper bound 100000.0. Increasing the bound and calling fit again may find a better value.\n",
      "  warnings.warn(\n"
     ]
    }
   ],
   "source": [
    "D2vsR_models_name =  [\"D2vsR_10_5\",\"D2vsR_20_10\",\"D2vsR_30_15\"]\n",
    "D2vsR_trained_model = train_onevsrest_gpc_with_data_variation(D2vsR_gpc,\n",
    "                                        D2VsR_data_generator, \n",
    "                                        [10,20,30],\n",
    "                                        [5,10,15],\n",
    "                                        D2vsR_models_name,\n",
    "                                        copy_gpc_model=True)"
   ]
  },
  {
   "cell_type": "code",
   "execution_count": 30,
   "id": "081bd79e",
   "metadata": {},
   "outputs": [
    {
     "name": "stderr",
     "output_type": "stream",
     "text": [
      "c:\\Users\\Rafi\\miniconda3\\envs\\MLEnv\\lib\\site-packages\\sklearn\\gaussian_process\\kernels.py:429: ConvergenceWarning: The optimal value found for dimension 0 of parameter k1__constant_value is close to the specified upper bound 100000.0. Increasing the bound and calling fit again may find a better value.\n",
      "  warnings.warn(\n"
     ]
    }
   ],
   "source": [
    "PDvsR_models_name =  [\"PDvsR_10_5\",\"PDvsR_20_10\",\"PDvsR_30_15\"]\n",
    "PDvsR_trained_model = train_onevsrest_gpc_with_data_variation(PDvsR_gpc,\n",
    "                                        PDVsR_data_generator, \n",
    "                                        [10,20,30],\n",
    "                                        [5,10,15],\n",
    "                                        PDvsR_models_name,\n",
    "                                        copy_gpc_model=True)"
   ]
  },
  {
   "cell_type": "code",
   "execution_count": 31,
   "id": "74944b1a",
   "metadata": {},
   "outputs": [
    {
     "name": "stderr",
     "output_type": "stream",
     "text": [
      "c:\\Users\\Rafi\\miniconda3\\envs\\MLEnv\\lib\\site-packages\\sklearn\\gaussian_process\\_gpc.py:477: ConvergenceWarning: lbfgs failed to converge (status=2):\n",
      "ABNORMAL_TERMINATION_IN_LNSRCH.\n",
      "\n",
      "Increase the number of iterations (max_iter) or scale the data as shown in:\n",
      "    https://scikit-learn.org/stable/modules/preprocessing.html\n",
      "  _check_optimize_result(\"lbfgs\", opt_res)\n"
     ]
    }
   ],
   "source": [
    "T1vsR_models_name =  [\"T1vsR_10_5\",\"T1vsR_20_10\",\"T1vsR_30_15\"]\n",
    "T1vsR_trained_model = train_onevsrest_gpc_with_data_variation(T1vsR_gpc,\n",
    "                                        T1VsR_data_generator, \n",
    "                                        [10,20,30],\n",
    "                                        [5,10,15],\n",
    "                                        T1vsR_models_name,\n",
    "                                        copy_gpc_model=True)"
   ]
  },
  {
   "cell_type": "code",
   "execution_count": 32,
   "id": "59a4ea96",
   "metadata": {},
   "outputs": [
    {
     "name": "stderr",
     "output_type": "stream",
     "text": [
      "c:\\Users\\Rafi\\miniconda3\\envs\\MLEnv\\lib\\site-packages\\sklearn\\gaussian_process\\kernels.py:429: ConvergenceWarning: The optimal value found for dimension 0 of parameter k2__length_scale is close to the specified upper bound 100000.0. Increasing the bound and calling fit again may find a better value.\n",
      "  warnings.warn(\n",
      "c:\\Users\\Rafi\\miniconda3\\envs\\MLEnv\\lib\\site-packages\\sklearn\\gaussian_process\\_gpc.py:477: ConvergenceWarning: lbfgs failed to converge (status=2):\n",
      "ABNORMAL_TERMINATION_IN_LNSRCH.\n",
      "\n",
      "Increase the number of iterations (max_iter) or scale the data as shown in:\n",
      "    https://scikit-learn.org/stable/modules/preprocessing.html\n",
      "  _check_optimize_result(\"lbfgs\", opt_res)\n"
     ]
    }
   ],
   "source": [
    "T2vsR_models_name =  [\"T2vsR_10_5\",\"T2vsR_20_10\",\"T2vsR_30_15\"]\n",
    "T2vsR_trained_model = train_onevsrest_gpc_with_data_variation(T2vsR_gpc,\n",
    "                                        T2VsR_data_generator, \n",
    "                                        [10,20,30],\n",
    "                                        [5,10,15],\n",
    "                                        T2vsR_models_name,\n",
    "                                        copy_gpc_model=True)"
   ]
  },
  {
   "cell_type": "code",
   "execution_count": 33,
   "id": "323e0204",
   "metadata": {},
   "outputs": [
    {
     "name": "stderr",
     "output_type": "stream",
     "text": [
      "c:\\Users\\Rafi\\miniconda3\\envs\\MLEnv\\lib\\site-packages\\sklearn\\gaussian_process\\_gpc.py:477: ConvergenceWarning: lbfgs failed to converge (status=2):\n",
      "ABNORMAL_TERMINATION_IN_LNSRCH.\n",
      "\n",
      "Increase the number of iterations (max_iter) or scale the data as shown in:\n",
      "    https://scikit-learn.org/stable/modules/preprocessing.html\n",
      "  _check_optimize_result(\"lbfgs\", opt_res)\n",
      "c:\\Users\\Rafi\\miniconda3\\envs\\MLEnv\\lib\\site-packages\\sklearn\\gaussian_process\\kernels.py:429: ConvergenceWarning: The optimal value found for dimension 0 of parameter k1__constant_value is close to the specified upper bound 100000.0. Increasing the bound and calling fit again may find a better value.\n",
      "  warnings.warn(\n",
      "c:\\Users\\Rafi\\miniconda3\\envs\\MLEnv\\lib\\site-packages\\sklearn\\gaussian_process\\_gpc.py:477: ConvergenceWarning: lbfgs failed to converge (status=2):\n",
      "ABNORMAL_TERMINATION_IN_LNSRCH.\n",
      "\n",
      "Increase the number of iterations (max_iter) or scale the data as shown in:\n",
      "    https://scikit-learn.org/stable/modules/preprocessing.html\n",
      "  _check_optimize_result(\"lbfgs\", opt_res)\n",
      "c:\\Users\\Rafi\\miniconda3\\envs\\MLEnv\\lib\\site-packages\\sklearn\\gaussian_process\\kernels.py:429: ConvergenceWarning: The optimal value found for dimension 0 of parameter k1__constant_value is close to the specified upper bound 100000.0. Increasing the bound and calling fit again may find a better value.\n",
      "  warnings.warn(\n"
     ]
    }
   ],
   "source": [
    "T3vsR_models_name =  [\"T3vsR_10_5\",\"T3vsR_20_10\",\"T3vsR_30_15\"]\n",
    "T3vsR_trained_model = train_onevsrest_gpc_with_data_variation(T3vsR_gpc,\n",
    "                                        T3VsR_data_generator, \n",
    "                                        [10,20,30],\n",
    "                                        [5,10,15],\n",
    "                                        T3vsR_models_name,\n",
    "                                        copy_gpc_model=True)"
   ]
  },
  {
   "cell_type": "code",
   "execution_count": 34,
   "id": "aa043690",
   "metadata": {},
   "outputs": [],
   "source": [
    "X_test = small_dataset.drop(columns=\"Justifikasi\").to_numpy()\n",
    "y_test = small_dataset[\"Justifikasi\"].map(encode_justifikasi).to_numpy()"
   ]
  },
  {
   "cell_type": "code",
   "execution_count": 40,
   "id": "bac54068",
   "metadata": {},
   "outputs": [],
   "source": [
    "all_classifiers = {\n",
    "    \"D1\": D1vsR_trained_model['D1vsR_10_5'].gpc_model, \n",
    "    \"D2\": D2vsR_trained_model['D2vsR_10_5'].gpc_model, \n",
    "    \"PD\": PDvsR_trained_model['PDvsR_10_5'].gpc_model, \n",
    "    \"T1\": T1vsR_trained_model['T1vsR_10_5'].gpc_model, \n",
    "    \"T2\": T2vsR_trained_model['T2vsR_10_5'].gpc_model, \n",
    "    \"T3\": T3vsR_trained_model['T3vsR_10_5'].gpc_model\n",
    "    }\n",
    "\n",
    "# Precompute probabilities for all classifiers (shape: n_class, n_samples)\n",
    "proba_matrix = np.vstack([\n",
    "    clf.predict_proba(X_test)[:, -1] for clf in all_classifiers.values() # type: ignore\n",
    "])\n",
    "\n",
    "# Get predicted class indices by taking argmax along the classifier axis\n",
    "prediction_indices = np.argmax(proba_matrix, axis=0)\n",
    "\n",
    "# Map indices back to class names and then encode\n",
    "class_names = list(all_classifiers.keys())\n",
    "prediction_labels = [class_names[idx] for idx in prediction_indices]\n",
    "prediction = np.array(list(map(encode_justifikasi, prediction_labels)))\n",
    "\n"
   ]
  },
  {
   "cell_type": "code",
   "execution_count": 41,
   "id": "f9345c74",
   "metadata": {},
   "outputs": [
    {
     "name": "stdout",
     "output_type": "stream",
     "text": [
      "Number of correct prediction = 205\n",
      "Percentage of correct prediction = 59.7667638483965\n"
     ]
    }
   ],
   "source": [
    "number_of_correct_predictions = np.sum(prediction == y_test)\n",
    "percentage_of_correct_predictions = number_of_correct_predictions/len(y_test)*100\n",
    "print(\"Number of correct prediction =\",number_of_correct_predictions)\n",
    "print(\"Percentage of correct prediction =\", percentage_of_correct_predictions)"
   ]
  },
  {
   "cell_type": "code",
   "execution_count": null,
   "id": "22fe7c16",
   "metadata": {},
   "outputs": [],
   "source": []
  }
 ],
 "metadata": {
  "kernelspec": {
   "display_name": "MLEnv",
   "language": "python",
   "name": "python3"
  },
  "language_info": {
   "codemirror_mode": {
    "name": "ipython",
    "version": 3
   },
   "file_extension": ".py",
   "mimetype": "text/x-python",
   "name": "python",
   "nbconvert_exporter": "python",
   "pygments_lexer": "ipython3",
   "version": "3.10.11"
  }
 },
 "nbformat": 4,
 "nbformat_minor": 5
}
